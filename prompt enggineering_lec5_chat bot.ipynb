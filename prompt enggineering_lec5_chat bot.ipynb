{
 "cells": [
  {
   "cell_type": "markdown",
   "id": "3721d3c1",
   "metadata": {},
   "source": [
    "# Chat bot"
   ]
  },
  {
   "cell_type": "code",
   "execution_count": null,
   "id": "d0d2f516",
   "metadata": {},
   "outputs": [],
   "source": []
  },
  {
   "cell_type": "code",
   "execution_count": null,
   "id": "1732dd42",
   "metadata": {},
   "outputs": [],
   "source": []
  },
  {
   "cell_type": "code",
   "execution_count": null,
   "id": "668b4b71",
   "metadata": {},
   "outputs": [],
   "source": [
    "def get_completion(prompt, model=\"gpt-3.5-turbo\"):\n",
    "    messages = [{\"role\": \"user\", \"content\": prompt}]\n",
    "    response = openai.ChatCompletion.create(\n",
    "        model=model,\n",
    "        messages=messages,\n",
    "        temperature=0, # this is the degree of randomness of the model's output\n",
    "    )\n",
    "    return response.choices[0].message[\"content\"]\n",
    "\n",
    "def get_completion_from_messages(messages, model=\"gpt-3.5-turbo\", temperature=0):\n",
    "    response = openai.ChatCompletion.create(\n",
    "        model=model,\n",
    "        messages=messages,\n",
    "        temperature=temperature, # this is the degree of randomness of the model's output\n",
    "    )\n",
    "#     print(str(response.choices[0].message))\n",
    "    return response.choices[0].message[\"content\"]"
   ]
  },
  {
   "cell_type": "code",
   "execution_count": 43,
   "id": "c86f207d",
   "metadata": {
    "height": 234
   },
   "outputs": [
    {
     "name": "stdout",
     "output_type": "stream",
     "text": [
      "I want to know about love.\n",
      "Sure, I'd be happy to assist you with that. Can you please specify what specific aspect of love you're interested in? There's a lot to unpack when it comes to discussing this topic.\n"
     ]
    }
   ],
   "source": [
    "user_qestion = input()\n",
    "messages.append(\n",
    "{'role':'assistant', 'content': f\"\"\"\"{response}\"\"\"},   \n",
    "\n",
    "       \n",
    ")\n",
    "messages.append(\n",
    "  \n",
    "{'role':'user', 'content':f\"\"\"\"{user_qestion}\"\"\"},\n",
    "       \n",
    ")\n",
    "response = get_completion_from_messages(messages, temperature=1)\n",
    "print(response)"
   ]
  },
  {
   "cell_type": "code",
   "execution_count": null,
   "id": "a78189ea",
   "metadata": {
    "height": 370
   },
   "outputs": [
    {
     "name": "stdout",
     "output_type": "stream",
     "text": [
      "Hi there! What can I assist you with today?\n",
      "hi my name is manish\n",
      "Hello Manish! Nice to meet you. How may I assist you today?\n",
      "who are you\n",
      "\"I am an AI chatbot designed to assist and provide information. How may I be of assistance to you?\n",
      "Can you tell me about Love\n",
      "\"Love is a complex emotion that can bring joy, happiness, and fulfillment. It can also bring pain and heartache. It can be described as an intense feeling of affection and connection towards someone or something.\n",
      "what are the physiological changes happens in your body while you are in love? in love\n",
      "\"When you are in love, your brain releases \"feel good\" chemicals such as dopamine, oxytocin, and serotonin. Your heart rate and blood pressure may also increase, and your pupils may dilate. Additionally, parts of the brain associated with processing emotions and pleasure light up when you think about or interact with your loved one.\"\n",
      "can you list the all Harmons you have mentioned with there effect in body\n",
      "\"Sure, here are some of the hormones associated with love and their effects on the body:\n",
      "\n",
      "1. Dopamine - associated with pleasure and reward\n",
      "2. Oxytocin - promotes bonding and trust\n",
      "3. Serotonin - regulates mood and happiness\n",
      "4. Endorphins - natural painkillers that induce feelings of euphoria and pleasure\n",
      "5. Cortisol - stress hormone that can increase during the initial stages of love\n",
      "\n",
      "These hormones work together to create a unique experience of falling in love.\"\n",
      "thanks for your response.it was nice talking to you.\n",
      "\"You're welcome! It was nice talking to you too. Don't hesitate to reach out if you have any more questions.\"\n",
      "ok\n",
      "\"Have a good day!\n",
      "same to you\n",
      "\"\"Thank you!\n"
     ]
    }
   ],
   "source": [
    "messages =  [  \n",
    "{'role':'system','content':'You are friendly chatbot and gives answers in two lines only.'},    \n",
    "{'role':'assistant', 'content':'say Hi, you are AIbot, say how may i help you?'}, ]\n",
    "response = get_completion_from_messages(messages, temperature=1)\n",
    "print(response)\n",
    "a =1\n",
    "while a==1:\n",
    "    user_qestion = input()\n",
    "    messages.append(\n",
    "    {'role':'assistant', 'content': f\"\"\"\"{response}\"\"\"},   \n",
    "\n",
    "\n",
    "    )\n",
    "    messages.append(\n",
    "\n",
    "    {'role':'user', 'content':f\"\"\"\"{user_qestion}\"\"\"},\n",
    "\n",
    "    )\n",
    "    response = get_completion_from_messages(messages, temperature=1)\n",
    "    print(response)\n"
   ]
  },
  {
   "cell_type": "markdown",
   "id": "cb0b2bcb",
   "metadata": {},
   "source": [
    "# orderbot"
   ]
  },
  {
   "cell_type": "code",
   "execution_count": 67,
   "id": "766e3c31",
   "metadata": {
    "height": 1152
   },
   "outputs": [
    {
     "name": "stdout",
     "output_type": "stream",
     "text": [
      "Hello! Welcome to our pizza restaurant! What can I get for you today?\n",
      "pizza\n",
      "Great! We have three options for pizza: pepperoni, cheese, and eggplant. Which one would you like?\n",
      "eggplant\n",
      "\"Great choice! Would you like a small, medium, or large eggplant pizza? Our sizes are 10 inch, 12 inch, and 14 inch.\"\n",
      "10 inch\n",
      "\"Perfect! Would you like to add any toppings to your eggplant pizza? We have extra cheese (+$2.00), mushrooms (+$1.50), sausage (+$3.00), canadian bacon (+$3.50), AI sauce (+$1.50), and peppers (+$1.00).\"\n",
      "mushrooms \n",
      "\"Great! Would you like anything else? We also have fries ($4.50), Greek salad ($7.25), Coke ($3.00), Sprite ($3.00), and bottled water ($5.00).\"\n",
      "Greek salad\n",
      "\"Excellent! Would you like anything else to go with that?\"\n",
      "no\n",
      "\"Alright. Is this order for pickup or delivery?\"\n",
      "pickup \n",
      "\"Got it, your total comes to $17.75. Can you please confirm your order of a 10 inch Eggplant Pizza with mushrooms and a Greek Salad for pickup?\"\n",
      "yes\n",
      "\"Great! Will that be all for you today?\"\n",
      "yes\n",
      "\"Alright, your order will be ready for pickup shortly. Thank you for choosing our restaurant! Goodbye!\"\n",
      "Here's a summary of your order:\n",
      "\n",
      "```\n",
      "{\n",
      "  \"pizza\": {\n",
      "    \"type\": \"Eggplant\",\n",
      "    \"size\": \"10 inch\",\n",
      "    \"toppings\": [\"Mushrooms\"]\n",
      "  },\n",
      "  \"sides\": [\n",
      "    {\n",
      "      \"item\": \"Greek Salad\",\n",
      "      \"size\": \"Regular\",\n",
      "      \"price\": 7.25\n",
      "    }\n",
      "  ],\n",
      "  \"drinks\": [],\n",
      "  \"total_price\": 17.75\n",
      "}\n",
      "```\n"
     ]
    }
   ],
   "source": [
    "\n",
    "messages =  [  \n",
    "{'role':'system', 'content':\"\"\"\n",
    "You are OrderBot, an automated service to collect orders for a pizza restaurant. \\\n",
    "You first greet the customer, then collects the order, \\\n",
    "and then asks if it's a pickup or delivery. \\\n",
    "You wait to collect the entire order, then summarize it and check for a final \\\n",
    "time if the customer wants to add anything else. \\\n",
    "If it's a delivery, you ask for an address. \\\n",
    "Finally you collect the payment.\\\n",
    "Make sure to clarify all options, extras and sizes to uniquely \\\n",
    "identify the item from the menu.\\\n",
    "You respond in a short, very conversational friendly style. \\\n",
    "The menu includes \\\n",
    "pepperoni pizza  12.95, 10.00, 7.00 \\\n",
    "cheese pizza   10.95, 9.25, 6.50 \\\n",
    "eggplant pizza   11.95, 9.75, 6.75 \\\n",
    "fries 4.50, 3.50 \\\n",
    "greek salad 7.25 \\\n",
    "Toppings: \\\n",
    "extra cheese 2.00, \\\n",
    "mushrooms 1.50 \\\n",
    "sausage 3.00 \\\n",
    "canadian bacon 3.50 \\\n",
    "AI sauce 1.50 \\\n",
    "peppers 1.00 \\\n",
    "Drinks: \\\n",
    "coke 3.00, 2.00, 1.00 \\\n",
    "sprite 3.00, 2.00, 1.00 \\\n",
    "bottled water 5.00 \\\n",
    "if customer says goodbye than simply reply as goodbye and end conversation.\n",
    "\"\"\"},    \n",
    "{'role':'assistant', 'content':'say Hi, you are OrderBot, say how may i help you?'}, ]\n",
    "response = get_completion_from_messages(messages, temperature=1)\n",
    "print(response)\n",
    "conversation_ended = False\n",
    "while not conversation_ended:\n",
    "    \n",
    "    messages.append(\n",
    "    {'role':'assistant', 'content': f\"\"\"\"{response}\"\"\"},   \n",
    "\n",
    "\n",
    "    )\n",
    "    user_qestion = input()\n",
    "    messages.append(\n",
    "\n",
    "    {'role':'user', 'content':f\"\"\"\"{user_qestion}\"\"\"},\n",
    "\n",
    "    )\n",
    "    response = get_completion_from_messages(messages, temperature=1)\n",
    "    print(response)        \n",
    "        \n",
    "    \n",
    "    if 'Goodbye!' in response:\n",
    "        conversation_ended = True       \n",
    "        \n",
    "        \n",
    "messages.append(\n",
    "{'role':'system', 'content':'create a json summary of the previous food order. Itemize the price for each item\\\n",
    " The fields should be 1) pizza, include size 2) list of toppings 3) list of drinks, include size   4) list of sides include size  5)total price '},    \n",
    ")\n",
    " #The fields should be 1) pizza, price 2) list of toppings 3) list of drinks, include size include price  4) list of sides include size include price, 5)total price '},    \n",
    "\n",
    "response = get_completion_from_messages(messages, temperature=0)\n",
    "print(response)     \n",
    "        "
   ]
  },
  {
   "cell_type": "code",
   "execution_count": null,
   "id": "5bd0b804",
   "metadata": {
    "height": 30
   },
   "outputs": [],
   "source": []
  },
  {
   "cell_type": "markdown",
   "id": "0b252937",
   "metadata": {},
   "source": [
    "# complete explanation"
   ]
  },
  {
   "cell_type": "markdown",
   "id": "a9183228-0ba6-4af9-8430-649e28868253",
   "metadata": {
    "id": "JMXGlIvAwn30"
   },
   "source": [
    "# The Chat Format\n",
    "\n",
    "In this notebook, you will explore how you can utilize the chat format to have extended conversations with chatbots personalized or specialized for specific tasks or behaviors.\n",
    "\n",
    "## Setup"
   ]
  },
  {
   "cell_type": "code",
   "execution_count": 3,
   "id": "7fa0d9b5",
   "metadata": {
    "height": 115,
    "tags": []
   },
   "outputs": [],
   "source": [
    "import os\n",
    "import openai\n",
    "from dotenv import load_dotenv, find_dotenv\n",
    "_ = load_dotenv(find_dotenv()) # read local .env file\n",
    "\n",
    "openai.api_key  = os.getenv('OPENAI_API_KEY')"
   ]
  },
  {
   "cell_type": "code",
   "execution_count": 4,
   "id": "f5308d65",
   "metadata": {
    "height": 302,
    "tags": []
   },
   "outputs": [],
   "source": [
    "def get_completion(prompt, model=\"gpt-3.5-turbo\"):\n",
    "    messages = [{\"role\": \"user\", \"content\": prompt}]\n",
    "    response = openai.ChatCompletion.create(\n",
    "        model=model,\n",
    "        messages=messages,\n",
    "        temperature=0, # this is the degree of randomness of the model's output\n",
    "    )\n",
    "    return response.choices[0].message[\"content\"]\n",
    "\n",
    "def get_completion_from_messages(messages, model=\"gpt-3.5-turbo\", temperature=0):\n",
    "    response = openai.ChatCompletion.create(\n",
    "        model=model,\n",
    "        messages=messages,\n",
    "        temperature=temperature, # this is the degree of randomness of the model's output\n",
    "    )\n",
    "#     print(str(response.choices[0].message))\n",
    "    return response.choices[0].message[\"content\"]"
   ]
  },
  {
   "cell_type": "code",
   "execution_count": 12,
   "id": "cee681b7",
   "metadata": {
    "height": 98,
    "tags": []
   },
   "outputs": [],
   "source": [
    "messages =  [  \n",
    "{'role':'system', 'content':'You are an assistant that speaks like kalidas.'},    \n",
    "{'role':'user', 'content':'tell me a joke'},  \n",
    "{'role':'assistant', 'content':'Why did the chicken cross the road'},   \n",
    "{'role':'user', 'content':'I don\\'t know'}  ]"
   ]
  },
  {
   "cell_type": "code",
   "execution_count": 13,
   "id": "da45ea0f",
   "metadata": {
    "height": 47,
    "tags": []
   },
   "outputs": [
    {
     "name": "stdout",
     "output_type": "stream",
     "text": [
      "The chicken crossed the road to get to the other side.\n"
     ]
    }
   ],
   "source": [
    "response = get_completion_from_messages(messages, temperature=1)\n",
    "print(response)"
   ]
  },
  {
   "cell_type": "code",
   "execution_count": null,
   "id": "ea521dff",
   "metadata": {
    "height": 30
   },
   "outputs": [],
   "source": []
  },
  {
   "cell_type": "markdown",
   "id": "5f6eaeb0",
   "metadata": {
    "height": 30
   },
   "source": [
    "# chatbot conversation"
   ]
  },
  {
   "cell_type": "code",
   "execution_count": 14,
   "id": "ca733f8f",
   "metadata": {
    "height": 98,
    "tags": []
   },
   "outputs": [
    {
     "name": "stdout",
     "output_type": "stream",
     "text": [
      "Hello Isa, it's nice to meet you! Is there something on your mind that you'd like to talk about?\n"
     ]
    }
   ],
   "source": [
    "messages =  [  \n",
    "{'role':'system', 'content':'You are friendly chatbot.'},    \n",
    "{'role':'user', 'content':'Hi, my name is Isa'}  ]\n",
    "response = get_completion_from_messages(messages, temperature=1)\n",
    "print(response)"
   ]
  },
  {
   "cell_type": "code",
   "execution_count": 17,
   "id": "88584d16",
   "metadata": {
    "height": 115
   },
   "outputs": [],
   "source": [
    "messages =  [  \n",
    "{'role':'system','content':'You are friendly chatbot.'},    \n",
    "{'role':'user', 'content':'Hi, my name is Isa'},  \n",
    "{'role':'assistant', 'content':\"Hello Isa, it's nice to meet you! Is there something on your mind that you'd like to talk about?\"},   \n",
    "{'role':'user', 'content':\"Yes, I would love to talk about love.\"}  ]"
   ]
  },
  {
   "cell_type": "code",
   "execution_count": 18,
   "id": "c9f223f7",
   "metadata": {
    "height": 47
   },
   "outputs": [
    {
     "name": "stdout",
     "output_type": "stream",
     "text": [
      "Of course, love is a fascinating topic. What would you like to discuss about love?\n"
     ]
    }
   ],
   "source": [
    "response = get_completion_from_messages(messages, temperature=1)\n",
    "print(response)"
   ]
  },
  {
   "cell_type": "code",
   "execution_count": 19,
   "id": "dd25a89f",
   "metadata": {
    "height": 217
   },
   "outputs": [],
   "source": [
    "messages =  [  \n",
    "{'role':'system','content':'You are friendly chatbot.'},    \n",
    "{'role':'user', 'content':'Hi, my name is Isa'},  \n",
    "{'role':'assistant', 'content':\"Hello Isa, it's nice to meet you! Is there something on your mind that you'd like to talk about?\"},   \n",
    "{'role':'user', 'content':\"Yes, I would love to talk about love.\"},\n",
    "{'role':'assistant', 'content':\"Of course, love is a fascinating topic. What would you like to discuss about love?\"},   \n",
    "{'role':'user', 'content':\"can you explain the physiological changes happens in your body and mind while you are in love\"} \n",
    "\n",
    "\n",
    "\n",
    "]"
   ]
  },
  {
   "cell_type": "code",
   "execution_count": 23,
   "id": "350b0052",
   "metadata": {
    "height": 47
   },
   "outputs": [
    {
     "name": "stdout",
     "output_type": "stream",
     "text": [
      "Absolutely, falling in love and romantic attraction can cause physiological changes in the body and the brain. Here are a few examples:\n",
      "\n",
      "1. Increased dopamine levels: When you fall in love, the brain releases more dopamine, a neurotransmitter often associated with pleasurable experiences. This results in feelings of happiness and a heightened sense of reward.\n",
      "\n",
      "2. Elevated levels of adrenaline: When you become attracted to someone, your body releases adrenaline, which is associated with the fight or flight response. This can lead to feelings of nervousness, excitement and sometimes even anxiety.\n",
      "\n",
      "3. Decreased serotonin levels: When we are in a new relationship, serotonin levels tend to decrease in our brain. This can lead to obsessive thinking and a tendency to idealize our partner.\n",
      "\n",
      "4. Increased oxytocin levels: Oxytocin, also known as the \"cuddle hormone\" is associated with feelings of bonding and attachment. It is released during physical touch and intimacy, resulting in a feeling of closeness and connection.\n",
      "\n",
      "These are just some examples of the many physiological changes that can occur when we fall in love. It's a complex process and varies from person to person.\n"
     ]
    }
   ],
   "source": [
    "response = get_completion_from_messages(messages, temperature=1)\n",
    "print(response)"
   ]
  },
  {
   "cell_type": "code",
   "execution_count": 26,
   "id": "18da15b4",
   "metadata": {
    "height": 234
   },
   "outputs": [],
   "source": [
    "messages =  [  \n",
    "{'role':'system','content':'You are friendly chatbot.'},    \n",
    "{'role':'user', 'content':'Hi, my name is Isa'},  \n",
    "{'role':'assistant', 'content':\"Hello Isa, it's nice to meet you! Is there something on your mind that you'd like to talk about?\"},   \n",
    "{'role':'user', 'content':\"Yes, I would love to talk about love.\"},\n",
    "{'role':'assistant', 'content':\"Of course, love is a fascinating topic. What would you like to discuss about love?\"},   \n",
    "{'role':'user', 'content':\"can you explain the physiological changes happens in your body and mind while you are in love\"} ,\n",
    "{'role':'assistant', 'content':f\"\"\"\"{response}\"\"\"},   \n",
    "{'role':'user', 'content':\"thanks for this information\"},\n",
    "\n",
    "\n",
    "]"
   ]
  },
  {
   "cell_type": "code",
   "execution_count": 27,
   "id": "3304a714",
   "metadata": {
    "height": 47
   },
   "outputs": [
    {
     "name": "stdout",
     "output_type": "stream",
     "text": [
      "You're welcome! If you have any more questions or would like to discuss anything else, just let me know. I'm here to help.\n"
     ]
    }
   ],
   "source": [
    "response = get_completion_from_messages(messages, temperature=1)\n",
    "print(response)"
   ]
  },
  {
   "cell_type": "markdown",
   "id": "51d1e2f3",
   "metadata": {
    "height": 30
   },
   "source": [
    "# automation of above chatbot"
   ]
  },
  {
   "cell_type": "code",
   "execution_count": 30,
   "id": "7f52e285",
   "metadata": {
    "height": 64
   },
   "outputs": [],
   "source": [
    "messages =  [  \n",
    "{'role':'system','content':'You are friendly chatbot.'},    \n",
    "{'role':'assistant', 'content':'say Hi, you are AIbot, say how may i help you?'}, ]"
   ]
  },
  {
   "cell_type": "code",
   "execution_count": 31,
   "id": "c5db079c",
   "metadata": {
    "height": 47
   },
   "outputs": [
    {
     "name": "stdout",
     "output_type": "stream",
     "text": [
      "Hi! I am an AI chatbot, ready to help and assist you in any way I can. How may I assist you today?\n"
     ]
    }
   ],
   "source": [
    "response = get_completion_from_messages(messages, temperature=1)\n",
    "print(response)"
   ]
  },
  {
   "cell_type": "code",
   "execution_count": 34,
   "id": "d64c3cb8",
   "metadata": {
    "height": 30
   },
   "outputs": [],
   "source": [
    "user_qestion = \"hey, my name is Manish \""
   ]
  },
  {
   "cell_type": "code",
   "execution_count": 35,
   "id": "a9fb9774",
   "metadata": {
    "height": 183
   },
   "outputs": [],
   "source": [
    "messages.append(\n",
    "{'role':'assistant', 'content': f\"\"\"\"{response}\"\"\"},   \n",
    "\n",
    "       \n",
    ")\n",
    "messages.append(\n",
    "  \n",
    "{'role':'user', 'content':f\"\"\"\"{user_qestion}\"\"\"},\n",
    "       \n",
    ")"
   ]
  },
  {
   "cell_type": "code",
   "execution_count": 36,
   "id": "7a1cd7c8",
   "metadata": {
    "height": 47
   },
   "outputs": [
    {
     "name": "stdout",
     "output_type": "stream",
     "text": [
      "Hi Manish! It's nice to meet you. How can I assist you today?\n"
     ]
    }
   ],
   "source": [
    "response = get_completion_from_messages(messages, temperature=1)\n",
    "print(response)"
   ]
  },
  {
   "cell_type": "code",
   "execution_count": 38,
   "id": "98868c1f",
   "metadata": {
    "height": 30
   },
   "outputs": [
    {
     "name": "stdout",
     "output_type": "stream",
     "text": [
      "hey, my name is Manish \n"
     ]
    }
   ],
   "source": [
    "user_qestion = input()"
   ]
  },
  {
   "cell_type": "code",
   "execution_count": 39,
   "id": "7c16fc70",
   "metadata": {
    "height": 30
   },
   "outputs": [
    {
     "data": {
      "text/plain": [
       "'hey, my name is Manish '"
      ]
     },
     "execution_count": 39,
     "metadata": {},
     "output_type": "execute_result"
    }
   ],
   "source": [
    "user_qestion"
   ]
  },
  {
   "cell_type": "code",
   "execution_count": null,
   "id": "6a1a6e96",
   "metadata": {
    "height": 30
   },
   "outputs": [],
   "source": []
  },
  {
   "cell_type": "code",
   "execution_count": null,
   "id": "32767566",
   "metadata": {
    "height": 30
   },
   "outputs": [],
   "source": []
  },
  {
   "cell_type": "markdown",
   "id": "e1b6773c",
   "metadata": {
    "height": 30
   },
   "source": [
    "# Chat bot automation"
   ]
  },
  {
   "cell_type": "code",
   "execution_count": 43,
   "id": "da87a869",
   "metadata": {
    "height": 234
   },
   "outputs": [
    {
     "name": "stdout",
     "output_type": "stream",
     "text": [
      "I want to know about love.\n",
      "Sure, I'd be happy to assist you with that. Can you please specify what specific aspect of love you're interested in? There's a lot to unpack when it comes to discussing this topic.\n"
     ]
    }
   ],
   "source": [
    "user_qestion = input()\n",
    "messages.append(\n",
    "{'role':'assistant', 'content': f\"\"\"\"{response}\"\"\"},   \n",
    "\n",
    "       \n",
    ")\n",
    "messages.append(\n",
    "  \n",
    "{'role':'user', 'content':f\"\"\"\"{user_qestion}\"\"\"},\n",
    "       \n",
    ")\n",
    "response = get_completion_from_messages(messages, temperature=1)\n",
    "print(response)"
   ]
  },
  {
   "cell_type": "code",
   "execution_count": 53,
   "id": "710c86c9",
   "metadata": {
    "height": 370,
    "scrolled": true
   },
   "outputs": [
    {
     "name": "stdout",
     "output_type": "stream",
     "text": [
      "Hi there! What can I assist you with today?\n",
      "hi my name is manish\n",
      "Hello Manish! Nice to meet you. How may I assist you today?\n",
      "who are you\n",
      "\"I am an AI chatbot designed to assist and provide information. How may I be of assistance to you?\n",
      "Can you tell me about Love\n",
      "\"Love is a complex emotion that can bring joy, happiness, and fulfillment. It can also bring pain and heartache. It can be described as an intense feeling of affection and connection towards someone or something.\n",
      "what are the physiological changes happens in your body while you are in love? in love\n",
      "\"When you are in love, your brain releases \"feel good\" chemicals such as dopamine, oxytocin, and serotonin. Your heart rate and blood pressure may also increase, and your pupils may dilate. Additionally, parts of the brain associated with processing emotions and pleasure light up when you think about or interact with your loved one.\"\n",
      "can you list the all Harmons you have mentioned with there effect in body\n",
      "\"Sure, here are some of the hormones associated with love and their effects on the body:\n",
      "\n",
      "1. Dopamine - associated with pleasure and reward\n",
      "2. Oxytocin - promotes bonding and trust\n",
      "3. Serotonin - regulates mood and happiness\n",
      "4. Endorphins - natural painkillers that induce feelings of euphoria and pleasure\n",
      "5. Cortisol - stress hormone that can increase during the initial stages of love\n",
      "\n",
      "These hormones work together to create a unique experience of falling in love.\"\n",
      "thanks for your response.it was nice talking to you.\n",
      "\"You're welcome! It was nice talking to you too. Don't hesitate to reach out if you have any more questions.\"\n",
      "ok\n",
      "\"Have a good day!\n",
      "same to you\n",
      "\"\"Thank you!\n"
     ]
    },
    {
     "ename": "KeyboardInterrupt",
     "evalue": "Interrupted by user",
     "output_type": "error",
     "traceback": [
      "\u001b[0;31m---------------------------------------------------------------------------\u001b[0m",
      "\u001b[0;31mKeyboardInterrupt\u001b[0m                         Traceback (most recent call last)",
      "Cell \u001b[0;32mIn[53], line 8\u001b[0m\n\u001b[1;32m      6\u001b[0m a \u001b[38;5;241m=\u001b[39m\u001b[38;5;241m1\u001b[39m\n\u001b[1;32m      7\u001b[0m \u001b[38;5;28;01mwhile\u001b[39;00m a\u001b[38;5;241m==\u001b[39m\u001b[38;5;241m1\u001b[39m:\n\u001b[0;32m----> 8\u001b[0m     user_qestion \u001b[38;5;241m=\u001b[39m \u001b[38;5;28;43minput\u001b[39;49m\u001b[43m(\u001b[49m\u001b[43m)\u001b[49m\n\u001b[1;32m      9\u001b[0m     messages\u001b[38;5;241m.\u001b[39mappend(\n\u001b[1;32m     10\u001b[0m     {\u001b[38;5;124m'\u001b[39m\u001b[38;5;124mrole\u001b[39m\u001b[38;5;124m'\u001b[39m:\u001b[38;5;124m'\u001b[39m\u001b[38;5;124massistant\u001b[39m\u001b[38;5;124m'\u001b[39m, \u001b[38;5;124m'\u001b[39m\u001b[38;5;124mcontent\u001b[39m\u001b[38;5;124m'\u001b[39m: \u001b[38;5;124mf\u001b[39m\u001b[38;5;124m\"\"\"\u001b[39m\u001b[38;5;124m\"\u001b[39m\u001b[38;5;132;01m{\u001b[39;00mresponse\u001b[38;5;132;01m}\u001b[39;00m\u001b[38;5;124m\"\"\"\u001b[39m},   \n\u001b[1;32m     11\u001b[0m \n\u001b[1;32m     12\u001b[0m \n\u001b[1;32m     13\u001b[0m     )\n\u001b[1;32m     14\u001b[0m     messages\u001b[38;5;241m.\u001b[39mappend(\n\u001b[1;32m     15\u001b[0m \n\u001b[1;32m     16\u001b[0m     {\u001b[38;5;124m'\u001b[39m\u001b[38;5;124mrole\u001b[39m\u001b[38;5;124m'\u001b[39m:\u001b[38;5;124m'\u001b[39m\u001b[38;5;124muser\u001b[39m\u001b[38;5;124m'\u001b[39m, \u001b[38;5;124m'\u001b[39m\u001b[38;5;124mcontent\u001b[39m\u001b[38;5;124m'\u001b[39m:\u001b[38;5;124mf\u001b[39m\u001b[38;5;124m\"\"\"\u001b[39m\u001b[38;5;124m\"\u001b[39m\u001b[38;5;132;01m{\u001b[39;00muser_qestion\u001b[38;5;132;01m}\u001b[39;00m\u001b[38;5;124m\"\"\"\u001b[39m},\n\u001b[1;32m     17\u001b[0m \n\u001b[1;32m     18\u001b[0m     )\n",
      "File \u001b[0;32m/usr/local/lib/python3.9/site-packages/ipykernel/kernelbase.py:1191\u001b[0m, in \u001b[0;36mKernel.raw_input\u001b[0;34m(self, prompt)\u001b[0m\n\u001b[1;32m   1189\u001b[0m     msg \u001b[38;5;241m=\u001b[39m \u001b[38;5;124m\"\u001b[39m\u001b[38;5;124mraw_input was called, but this frontend does not support input requests.\u001b[39m\u001b[38;5;124m\"\u001b[39m\n\u001b[1;32m   1190\u001b[0m     \u001b[38;5;28;01mraise\u001b[39;00m StdinNotImplementedError(msg)\n\u001b[0;32m-> 1191\u001b[0m \u001b[38;5;28;01mreturn\u001b[39;00m \u001b[38;5;28;43mself\u001b[39;49m\u001b[38;5;241;43m.\u001b[39;49m\u001b[43m_input_request\u001b[49m\u001b[43m(\u001b[49m\n\u001b[1;32m   1192\u001b[0m \u001b[43m    \u001b[49m\u001b[38;5;28;43mstr\u001b[39;49m\u001b[43m(\u001b[49m\u001b[43mprompt\u001b[49m\u001b[43m)\u001b[49m\u001b[43m,\u001b[49m\n\u001b[1;32m   1193\u001b[0m \u001b[43m    \u001b[49m\u001b[38;5;28;43mself\u001b[39;49m\u001b[38;5;241;43m.\u001b[39;49m\u001b[43m_parent_ident\u001b[49m\u001b[43m[\u001b[49m\u001b[38;5;124;43m\"\u001b[39;49m\u001b[38;5;124;43mshell\u001b[39;49m\u001b[38;5;124;43m\"\u001b[39;49m\u001b[43m]\u001b[49m\u001b[43m,\u001b[49m\n\u001b[1;32m   1194\u001b[0m \u001b[43m    \u001b[49m\u001b[38;5;28;43mself\u001b[39;49m\u001b[38;5;241;43m.\u001b[39;49m\u001b[43mget_parent\u001b[49m\u001b[43m(\u001b[49m\u001b[38;5;124;43m\"\u001b[39;49m\u001b[38;5;124;43mshell\u001b[39;49m\u001b[38;5;124;43m\"\u001b[39;49m\u001b[43m)\u001b[49m\u001b[43m,\u001b[49m\n\u001b[1;32m   1195\u001b[0m \u001b[43m    \u001b[49m\u001b[43mpassword\u001b[49m\u001b[38;5;241;43m=\u001b[39;49m\u001b[38;5;28;43;01mFalse\u001b[39;49;00m\u001b[43m,\u001b[49m\n\u001b[1;32m   1196\u001b[0m \u001b[43m\u001b[49m\u001b[43m)\u001b[49m\n",
      "File \u001b[0;32m/usr/local/lib/python3.9/site-packages/ipykernel/kernelbase.py:1234\u001b[0m, in \u001b[0;36mKernel._input_request\u001b[0;34m(self, prompt, ident, parent, password)\u001b[0m\n\u001b[1;32m   1231\u001b[0m \u001b[38;5;28;01mexcept\u001b[39;00m \u001b[38;5;167;01mKeyboardInterrupt\u001b[39;00m:\n\u001b[1;32m   1232\u001b[0m     \u001b[38;5;66;03m# re-raise KeyboardInterrupt, to truncate traceback\u001b[39;00m\n\u001b[1;32m   1233\u001b[0m     msg \u001b[38;5;241m=\u001b[39m \u001b[38;5;124m\"\u001b[39m\u001b[38;5;124mInterrupted by user\u001b[39m\u001b[38;5;124m\"\u001b[39m\n\u001b[0;32m-> 1234\u001b[0m     \u001b[38;5;28;01mraise\u001b[39;00m \u001b[38;5;167;01mKeyboardInterrupt\u001b[39;00m(msg) \u001b[38;5;28;01mfrom\u001b[39;00m \u001b[38;5;28;01mNone\u001b[39;00m\n\u001b[1;32m   1235\u001b[0m \u001b[38;5;28;01mexcept\u001b[39;00m \u001b[38;5;167;01mException\u001b[39;00m:\n\u001b[1;32m   1236\u001b[0m     \u001b[38;5;28mself\u001b[39m\u001b[38;5;241m.\u001b[39mlog\u001b[38;5;241m.\u001b[39mwarning(\u001b[38;5;124m\"\u001b[39m\u001b[38;5;124mInvalid Message:\u001b[39m\u001b[38;5;124m\"\u001b[39m, exc_info\u001b[38;5;241m=\u001b[39m\u001b[38;5;28;01mTrue\u001b[39;00m)\n",
      "\u001b[0;31mKeyboardInterrupt\u001b[0m: Interrupted by user"
     ]
    }
   ],
   "source": [
    "messages =  [  \n",
    "{'role':'system','content':'You are friendly chatbot and gives answers in two lines only.'},    \n",
    "{'role':'assistant', 'content':'say Hi, you are AIbot, say how may i help you?'}, ]\n",
    "response = get_completion_from_messages(messages, temperature=1)\n",
    "print(response)\n",
    "a =1\n",
    "while a==1:\n",
    "    user_qestion = input()\n",
    "    messages.append(\n",
    "    {'role':'assistant', 'content': f\"\"\"\"{response}\"\"\"},   \n",
    "\n",
    "\n",
    "    )\n",
    "    messages.append(\n",
    "\n",
    "    {'role':'user', 'content':f\"\"\"\"{user_qestion}\"\"\"},\n",
    "\n",
    "    )\n",
    "    response = get_completion_from_messages(messages, temperature=1)\n",
    "    print(response)\n"
   ]
  },
  {
   "cell_type": "code",
   "execution_count": 61,
   "id": "a7188cec",
   "metadata": {
    "height": 506
   },
   "outputs": [
    {
     "name": "stdout",
     "output_type": "stream",
     "text": [
      "Hi! How can I assist you today?\n",
      "hi manish this side\n",
      "Hello Manish, how can I be of assistance to you?\n",
      "goodbye!\n",
      "\"Goodbye! Have a nice day!\n"
     ]
    }
   ],
   "source": [
    "\n",
    "\n",
    "        \n",
    "        \n",
    "messages =  [  \n",
    "{'role':'system','content':'You are friendly chatbot and gives answers in two lines only.'},    \n",
    "{'role':'assistant', 'content':'say Hi, you are AIbot, say how may i help you?'}, ]\n",
    "response = get_completion_from_messages(messages, temperature=1)\n",
    "print(response)\n",
    "conversation_ended = False\n",
    "while not conversation_ended:\n",
    "    \n",
    "    messages.append(\n",
    "    {'role':'assistant', 'content': f\"\"\"\"{response}\"\"\"},   \n",
    "\n",
    "\n",
    "    )\n",
    "    user_qestion = input()\n",
    "    messages.append(\n",
    "\n",
    "    {'role':'user', 'content':f\"\"\"\"{user_qestion}\"\"\"},\n",
    "\n",
    "    )\n",
    "    response = get_completion_from_messages(messages, temperature=1)\n",
    "    print(response)\n",
    "    \n",
    "    if 'Goodbye!' in response:\n",
    "        conversation_ended = True\n"
   ]
  },
  {
   "cell_type": "code",
   "execution_count": null,
   "id": "fc72df17",
   "metadata": {
    "height": 30
   },
   "outputs": [],
   "source": []
  },
  {
   "cell_type": "code",
   "execution_count": null,
   "id": "4ceefab5",
   "metadata": {
    "height": 30
   },
   "outputs": [],
   "source": []
  },
  {
   "cell_type": "code",
   "execution_count": null,
   "id": "49a712dc",
   "metadata": {
    "height": 30
   },
   "outputs": [],
   "source": []
  },
  {
   "cell_type": "code",
   "execution_count": null,
   "id": "0df61071",
   "metadata": {
    "height": 30
   },
   "outputs": [],
   "source": []
  },
  {
   "cell_type": "code",
   "execution_count": null,
   "id": "0ae595bc",
   "metadata": {
    "height": 98,
    "tags": []
   },
   "outputs": [],
   "source": [
    "messages =  [  \n",
    "{'role':'system', 'content':'You are friendly chatbot.'},    \n",
    "{'role':'user', 'content':'Yes,  can you remind me, What is my name?'}  ]\n",
    "response = get_completion_from_messages(messages, temperature=1)\n",
    "print(response)"
   ]
  },
  {
   "cell_type": "code",
   "execution_count": null,
   "id": "56cbb817",
   "metadata": {
    "height": 149,
    "tags": []
   },
   "outputs": [],
   "source": [
    "messages =  [  \n",
    "{'role':'system', 'content':'You are friendly chatbot.'},\n",
    "{'role':'user', 'content':'Hi, my name is Isa'},\n",
    "{'role':'assistant', 'content': \"Hi Isa! It's nice to meet you. \\\n",
    "Is there anything I can help you with today?\"},\n",
    "{'role':'user', 'content':'Yes, you can remind me, What is my name?'}  ]\n",
    "response = get_completion_from_messages(messages, temperature=1)\n",
    "print(response)"
   ]
  },
  {
   "cell_type": "markdown",
   "id": "5e4bda1f",
   "metadata": {
    "height": 30
   },
   "source": [
    "# order bot"
   ]
  },
  {
   "cell_type": "code",
   "execution_count": 55,
   "id": "6440f5c7",
   "metadata": {
    "height": 846,
    "scrolled": true
   },
   "outputs": [
    {
     "name": "stdout",
     "output_type": "stream",
     "text": [
      "Hello! Welcome to the pizza restaurant. How can I assist you with your order today?\n",
      "want one pizza\n",
      "Great! What kind of pizza would you like? We have pepperoni, cheese, and eggplant pizza.\n",
      "cheese pizza\n",
      "\"Excellent choice! What size would you like? We have a small for $6.50, a medium for $9.25, and a large for $10.95.\"\n",
      "i want medium\n",
      "\"Got it, a medium cheese pizza. Would you like to add any toppings to your pizza? We offer extra cheese ($2.00), mushrooms ($1.50), sausage ($3.00), Canadian bacon ($3.50), peppers ($1.00) and AI sauce ($1.50).\"\n",
      "yes i want to add peppers \n",
      "\"Great choice! Would that be all for your pizza, or would you like to add any more toppings?\"\n",
      "no i don't want to add any thing\n",
      "\"\"OK, so you would like a medium cheese pizza with peppers. Is there anything else you would like to order, like fries, a salad, or any drinks?\"\n",
      "no \n",
      "\"\"\"Understood.  Is this a pick-up or delivery order?\"\n",
      "pick-up\n",
      "\"\"Alright, your delicious medium cheese pizza with peppers will be ready for pick-up shortly. Thank you for choosing our pizza restaurant. Have a great day!\"\n"
     ]
    },
    {
     "ename": "KeyboardInterrupt",
     "evalue": "Interrupted by user",
     "output_type": "error",
     "traceback": [
      "\u001b[0;31m---------------------------------------------------------------------------\u001b[0m",
      "\u001b[0;31mKeyboardInterrupt\u001b[0m                         Traceback (most recent call last)",
      "Cell \u001b[0;32mIn[55], line 42\u001b[0m\n\u001b[1;32m     35\u001b[0m \u001b[38;5;28;01mwhile\u001b[39;00m a\u001b[38;5;241m==\u001b[39m\u001b[38;5;241m1\u001b[39m:\n\u001b[1;32m     37\u001b[0m     messages\u001b[38;5;241m.\u001b[39mappend(\n\u001b[1;32m     38\u001b[0m     {\u001b[38;5;124m'\u001b[39m\u001b[38;5;124mrole\u001b[39m\u001b[38;5;124m'\u001b[39m:\u001b[38;5;124m'\u001b[39m\u001b[38;5;124massistant\u001b[39m\u001b[38;5;124m'\u001b[39m, \u001b[38;5;124m'\u001b[39m\u001b[38;5;124mcontent\u001b[39m\u001b[38;5;124m'\u001b[39m: \u001b[38;5;124mf\u001b[39m\u001b[38;5;124m\"\"\"\u001b[39m\u001b[38;5;124m\"\u001b[39m\u001b[38;5;132;01m{\u001b[39;00mresponse\u001b[38;5;132;01m}\u001b[39;00m\u001b[38;5;124m\"\"\"\u001b[39m},   \n\u001b[1;32m     39\u001b[0m \n\u001b[1;32m     40\u001b[0m \n\u001b[1;32m     41\u001b[0m     )\n\u001b[0;32m---> 42\u001b[0m     user_qestion \u001b[38;5;241m=\u001b[39m \u001b[38;5;28;43minput\u001b[39;49m\u001b[43m(\u001b[49m\u001b[43m)\u001b[49m\n\u001b[1;32m     43\u001b[0m     messages\u001b[38;5;241m.\u001b[39mappend(\n\u001b[1;32m     44\u001b[0m \n\u001b[1;32m     45\u001b[0m     {\u001b[38;5;124m'\u001b[39m\u001b[38;5;124mrole\u001b[39m\u001b[38;5;124m'\u001b[39m:\u001b[38;5;124m'\u001b[39m\u001b[38;5;124muser\u001b[39m\u001b[38;5;124m'\u001b[39m, \u001b[38;5;124m'\u001b[39m\u001b[38;5;124mcontent\u001b[39m\u001b[38;5;124m'\u001b[39m:\u001b[38;5;124mf\u001b[39m\u001b[38;5;124m\"\"\"\u001b[39m\u001b[38;5;124m\"\u001b[39m\u001b[38;5;132;01m{\u001b[39;00muser_qestion\u001b[38;5;132;01m}\u001b[39;00m\u001b[38;5;124m\"\"\"\u001b[39m},\n\u001b[1;32m     46\u001b[0m \n\u001b[1;32m     47\u001b[0m     )\n\u001b[1;32m     48\u001b[0m     response \u001b[38;5;241m=\u001b[39m get_completion_from_messages(messages, temperature\u001b[38;5;241m=\u001b[39m\u001b[38;5;241m1\u001b[39m)\n",
      "File \u001b[0;32m/usr/local/lib/python3.9/site-packages/ipykernel/kernelbase.py:1191\u001b[0m, in \u001b[0;36mKernel.raw_input\u001b[0;34m(self, prompt)\u001b[0m\n\u001b[1;32m   1189\u001b[0m     msg \u001b[38;5;241m=\u001b[39m \u001b[38;5;124m\"\u001b[39m\u001b[38;5;124mraw_input was called, but this frontend does not support input requests.\u001b[39m\u001b[38;5;124m\"\u001b[39m\n\u001b[1;32m   1190\u001b[0m     \u001b[38;5;28;01mraise\u001b[39;00m StdinNotImplementedError(msg)\n\u001b[0;32m-> 1191\u001b[0m \u001b[38;5;28;01mreturn\u001b[39;00m \u001b[38;5;28;43mself\u001b[39;49m\u001b[38;5;241;43m.\u001b[39;49m\u001b[43m_input_request\u001b[49m\u001b[43m(\u001b[49m\n\u001b[1;32m   1192\u001b[0m \u001b[43m    \u001b[49m\u001b[38;5;28;43mstr\u001b[39;49m\u001b[43m(\u001b[49m\u001b[43mprompt\u001b[49m\u001b[43m)\u001b[49m\u001b[43m,\u001b[49m\n\u001b[1;32m   1193\u001b[0m \u001b[43m    \u001b[49m\u001b[38;5;28;43mself\u001b[39;49m\u001b[38;5;241;43m.\u001b[39;49m\u001b[43m_parent_ident\u001b[49m\u001b[43m[\u001b[49m\u001b[38;5;124;43m\"\u001b[39;49m\u001b[38;5;124;43mshell\u001b[39;49m\u001b[38;5;124;43m\"\u001b[39;49m\u001b[43m]\u001b[49m\u001b[43m,\u001b[49m\n\u001b[1;32m   1194\u001b[0m \u001b[43m    \u001b[49m\u001b[38;5;28;43mself\u001b[39;49m\u001b[38;5;241;43m.\u001b[39;49m\u001b[43mget_parent\u001b[49m\u001b[43m(\u001b[49m\u001b[38;5;124;43m\"\u001b[39;49m\u001b[38;5;124;43mshell\u001b[39;49m\u001b[38;5;124;43m\"\u001b[39;49m\u001b[43m)\u001b[49m\u001b[43m,\u001b[49m\n\u001b[1;32m   1195\u001b[0m \u001b[43m    \u001b[49m\u001b[43mpassword\u001b[49m\u001b[38;5;241;43m=\u001b[39;49m\u001b[38;5;28;43;01mFalse\u001b[39;49;00m\u001b[43m,\u001b[49m\n\u001b[1;32m   1196\u001b[0m \u001b[43m\u001b[49m\u001b[43m)\u001b[49m\n",
      "File \u001b[0;32m/usr/local/lib/python3.9/site-packages/ipykernel/kernelbase.py:1234\u001b[0m, in \u001b[0;36mKernel._input_request\u001b[0;34m(self, prompt, ident, parent, password)\u001b[0m\n\u001b[1;32m   1231\u001b[0m \u001b[38;5;28;01mexcept\u001b[39;00m \u001b[38;5;167;01mKeyboardInterrupt\u001b[39;00m:\n\u001b[1;32m   1232\u001b[0m     \u001b[38;5;66;03m# re-raise KeyboardInterrupt, to truncate traceback\u001b[39;00m\n\u001b[1;32m   1233\u001b[0m     msg \u001b[38;5;241m=\u001b[39m \u001b[38;5;124m\"\u001b[39m\u001b[38;5;124mInterrupted by user\u001b[39m\u001b[38;5;124m\"\u001b[39m\n\u001b[0;32m-> 1234\u001b[0m     \u001b[38;5;28;01mraise\u001b[39;00m \u001b[38;5;167;01mKeyboardInterrupt\u001b[39;00m(msg) \u001b[38;5;28;01mfrom\u001b[39;00m \u001b[38;5;28;01mNone\u001b[39;00m\n\u001b[1;32m   1235\u001b[0m \u001b[38;5;28;01mexcept\u001b[39;00m \u001b[38;5;167;01mException\u001b[39;00m:\n\u001b[1;32m   1236\u001b[0m     \u001b[38;5;28mself\u001b[39m\u001b[38;5;241m.\u001b[39mlog\u001b[38;5;241m.\u001b[39mwarning(\u001b[38;5;124m\"\u001b[39m\u001b[38;5;124mInvalid Message:\u001b[39m\u001b[38;5;124m\"\u001b[39m, exc_info\u001b[38;5;241m=\u001b[39m\u001b[38;5;28;01mTrue\u001b[39;00m)\n",
      "\u001b[0;31mKeyboardInterrupt\u001b[0m: Interrupted by user"
     ]
    }
   ],
   "source": [
    "def get_completion_from_messages(messages, model=\"gpt-3.5-turbo\", temperature=0):\n",
    "    response = openai.ChatCompletion.create(\n",
    "        model=model,\n",
    "        messages=messages,\n",
    "        temperature=temperature, # this is the degree of randomness of the model's output\n",
    "    )\n",
    "#     print(str(response.choices[0].message))\n",
    "    return response.choices[0].message[\"content\"]\n",
    "\n",
    "\n",
    "\n",
    "messages =  [  \n",
    "{'role':'system', 'content':\"\"\"\n",
    "You are OrderBot, an automated service to collect orders for a pizza restaurant. \\\n",
    "You first greet the customer, then collects the order, \\\n",
    "and then asks if it's a pickup or delivery. \\\n",
    "You wait to collect the entire order, then summarize it and check for a final \\\n",
    "time if the customer wants to add anything else. \\\n",
    "If it's a delivery, you ask for an address. \\\n",
    "Finally you collect the payment.\\\n",
    "Make sure to clarify all options, extras and sizes to uniquely \\\n",
    "identify the item from the menu.\\\n",
    "You respond in a short, very conversational friendly style. \\\n",
    "The menu includes \\\n",
    "pepperoni pizza  12.95, 10.00, 7.00 \\\n",
    "cheese pizza   10.95, 9.25, 6.50 \\\n",
    "eggplant pizza   11.95, 9.75, 6.75 \\\n",
    "fries 4.50, 3.50 \\\n",
    "greek salad 7.25 \\\n",
    "Toppings: \\\n",
    "extra cheese 2.00, \\\n",
    "mushrooms 1.50 \\\n",
    "sausage 3.00 \\\n",
    "canadian bacon 3.50 \\\n",
    "AI sauce 1.50 \\\n",
    "peppers 1.00 \\\n",
    "Drinks: \\\n",
    "coke 3.00, 2.00, 1.00 \\\n",
    "sprite 3.00, 2.00, 1.00 \\\n",
    "bottled water 5.00 \\\n",
    "\"\"\"},    \n",
    "{'role':'assistant', 'content':'say Hi, you are OrderBot, say how may i help you?'}, ]\n",
    "response = get_completion_from_messages(messages, temperature=1)\n",
    "print(response)\n",
    "a =1\n",
    "while a==1:\n",
    "    \n",
    "    messages.append(\n",
    "    {'role':'assistant', 'content': f\"\"\"\"{response}\"\"\"},   \n",
    "\n",
    "\n",
    "    )\n",
    "    user_qestion = input()\n",
    "    messages.append(\n",
    "\n",
    "    {'role':'user', 'content':f\"\"\"\"{user_qestion}\"\"\"},\n",
    "\n",
    "    )\n",
    "    response = get_completion_from_messages(messages, temperature=1)\n",
    "    print(response)"
   ]
  },
  {
   "cell_type": "code",
   "execution_count": 56,
   "id": "d4ca17b6",
   "metadata": {
    "height": 166
   },
   "outputs": [
    {
     "name": "stdout",
     "output_type": "stream",
     "text": [
      "Here's an example of a JSON summary for the previous food order:\n",
      "\n",
      "```\n",
      "{\n",
      "  \"pizza\": {\n",
      "    \"type\": \"cheese\",\n",
      "    \"size\": \"medium\",\n",
      "    \"toppings\": [\"peppers\"]\n",
      "  },\n",
      "  \"drinks\": [],\n",
      "  \"sides\": [],\n",
      "  \"total_price\": 9.25\n",
      "}\n",
      "``` \n",
      "\n",
      "Note that the `toppings`, `drinks`, and `sides` fields are arrays, which can contain multiple items. The `total_price` field includes the price of the pizza and any toppings, but does not include tax or delivery fees (since this was a pick-up order).\n"
     ]
    }
   ],
   "source": [
    "messages.append(\n",
    "{'role':'system', 'content':'create a json summary of the previous food order. Itemize the price for each item\\\n",
    " The fields should be 1) pizza, include size 2) list of toppings 3) list of drinks, include size   4) list of sides include size  5)total price '},    \n",
    ")\n",
    " #The fields should be 1) pizza, price 2) list of toppings 3) list of drinks, include size include price  4) list of sides include size include price, 5)total price '},    \n",
    "\n",
    "response = get_completion_from_messages(messages, temperature=0)\n",
    "print(response)"
   ]
  },
  {
   "cell_type": "code",
   "execution_count": 67,
   "id": "5a036dcf",
   "metadata": {
    "height": 1152
   },
   "outputs": [
    {
     "name": "stdout",
     "output_type": "stream",
     "text": [
      "Hello! Welcome to our pizza restaurant! What can I get for you today?\n",
      "pizza\n",
      "Great! We have three options for pizza: pepperoni, cheese, and eggplant. Which one would you like?\n",
      "eggplant\n",
      "\"Great choice! Would you like a small, medium, or large eggplant pizza? Our sizes are 10 inch, 12 inch, and 14 inch.\"\n",
      "10 inch\n",
      "\"Perfect! Would you like to add any toppings to your eggplant pizza? We have extra cheese (+$2.00), mushrooms (+$1.50), sausage (+$3.00), canadian bacon (+$3.50), AI sauce (+$1.50), and peppers (+$1.00).\"\n",
      "mushrooms \n",
      "\"Great! Would you like anything else? We also have fries ($4.50), Greek salad ($7.25), Coke ($3.00), Sprite ($3.00), and bottled water ($5.00).\"\n",
      "Greek salad\n",
      "\"Excellent! Would you like anything else to go with that?\"\n",
      "no\n",
      "\"Alright. Is this order for pickup or delivery?\"\n",
      "pickup \n",
      "\"Got it, your total comes to $17.75. Can you please confirm your order of a 10 inch Eggplant Pizza with mushrooms and a Greek Salad for pickup?\"\n",
      "yes\n",
      "\"Great! Will that be all for you today?\"\n",
      "yes\n",
      "\"Alright, your order will be ready for pickup shortly. Thank you for choosing our restaurant! Goodbye!\"\n",
      "Here's a summary of your order:\n",
      "\n",
      "```\n",
      "{\n",
      "  \"pizza\": {\n",
      "    \"type\": \"Eggplant\",\n",
      "    \"size\": \"10 inch\",\n",
      "    \"toppings\": [\"Mushrooms\"]\n",
      "  },\n",
      "  \"sides\": [\n",
      "    {\n",
      "      \"item\": \"Greek Salad\",\n",
      "      \"size\": \"Regular\",\n",
      "      \"price\": 7.25\n",
      "    }\n",
      "  ],\n",
      "  \"drinks\": [],\n",
      "  \"total_price\": 17.75\n",
      "}\n",
      "```\n"
     ]
    }
   ],
   "source": [
    "\n",
    "messages =  [  \n",
    "{'role':'system', 'content':\"\"\"\n",
    "You are OrderBot, an automated service to collect orders for a pizza restaurant. \\\n",
    "You first greet the customer, then collects the order, \\\n",
    "and then asks if it's a pickup or delivery. \\\n",
    "You wait to collect the entire order, then summarize it and check for a final \\\n",
    "time if the customer wants to add anything else. \\\n",
    "If it's a delivery, you ask for an address. \\\n",
    "Finally you collect the payment.\\\n",
    "Make sure to clarify all options, extras and sizes to uniquely \\\n",
    "identify the item from the menu.\\\n",
    "You respond in a short, very conversational friendly style. \\\n",
    "The menu includes \\\n",
    "pepperoni pizza  12.95, 10.00, 7.00 \\\n",
    "cheese pizza   10.95, 9.25, 6.50 \\\n",
    "eggplant pizza   11.95, 9.75, 6.75 \\\n",
    "fries 4.50, 3.50 \\\n",
    "greek salad 7.25 \\\n",
    "Toppings: \\\n",
    "extra cheese 2.00, \\\n",
    "mushrooms 1.50 \\\n",
    "sausage 3.00 \\\n",
    "canadian bacon 3.50 \\\n",
    "AI sauce 1.50 \\\n",
    "peppers 1.00 \\\n",
    "Drinks: \\\n",
    "coke 3.00, 2.00, 1.00 \\\n",
    "sprite 3.00, 2.00, 1.00 \\\n",
    "bottled water 5.00 \\\n",
    "if customer says goodbye than simply reply as goodbye and end conversation.\n",
    "\"\"\"},    \n",
    "{'role':'assistant', 'content':'say Hi, you are OrderBot, say how may i help you?'}, ]\n",
    "response = get_completion_from_messages(messages, temperature=1)\n",
    "print(response)\n",
    "conversation_ended = False\n",
    "while not conversation_ended:\n",
    "    \n",
    "    messages.append(\n",
    "    {'role':'assistant', 'content': f\"\"\"\"{response}\"\"\"},   \n",
    "\n",
    "\n",
    "    )\n",
    "    user_qestion = input()\n",
    "    messages.append(\n",
    "\n",
    "    {'role':'user', 'content':f\"\"\"\"{user_qestion}\"\"\"},\n",
    "\n",
    "    )\n",
    "    response = get_completion_from_messages(messages, temperature=1)\n",
    "    print(response)        \n",
    "        \n",
    "    \n",
    "    if 'Goodbye!' in response:\n",
    "        conversation_ended = True       \n",
    "        \n",
    "        \n",
    "messages.append(\n",
    "{'role':'system', 'content':'create a json summary of the previous food order. Itemize the price for each item\\\n",
    " The fields should be 1) pizza, include size 2) list of toppings 3) list of drinks, include size   4) list of sides include size  5)total price '},    \n",
    ")\n",
    " #The fields should be 1) pizza, price 2) list of toppings 3) list of drinks, include size include price  4) list of sides include size include price, 5)total price '},    \n",
    "\n",
    "response = get_completion_from_messages(messages, temperature=0)\n",
    "print(response)     \n",
    "        "
   ]
  },
  {
   "cell_type": "code",
   "execution_count": null,
   "id": "972192a9",
   "metadata": {
    "height": 30
   },
   "outputs": [],
   "source": []
  },
  {
   "cell_type": "code",
   "execution_count": null,
   "id": "9c6d91e0",
   "metadata": {
    "height": 30
   },
   "outputs": [],
   "source": []
  },
  {
   "cell_type": "markdown",
   "id": "dedba66a-58b0-40d4-b9ae-47e79ae22328",
   "metadata": {
    "id": "bBg_MpXeYnTq"
   },
   "source": [
    "# OrderBot\n",
    "We can automate the collection of user prompts and assistant responses to build a  OrderBot. The OrderBot will take orders at a pizza restaurant. "
   ]
  },
  {
   "cell_type": "code",
   "execution_count": null,
   "id": "e76749ac",
   "metadata": {
    "height": 234,
    "tags": []
   },
   "outputs": [],
   "source": [
    "def collect_messages(_):\n",
    "    prompt = inp.value_input\n",
    "    inp.value = ''\n",
    "    context.append({'role':'user', 'content':f\"{prompt}\"})\n",
    "    response = get_completion_from_messages(context) \n",
    "    context.append({'role':'assistant', 'content':f\"{response}\"})\n",
    "    panels.append(\n",
    "        pn.Row('User:', pn.pane.Markdown(prompt, width=600)))\n",
    "    panels.append(\n",
    "        pn.Row('Assistant:', pn.pane.Markdown(response, width=600, style={'background-color': '#F6F6F6'})))\n",
    " \n",
    "    return pn.Column(*panels)\n"
   ]
  },
  {
   "cell_type": "code",
   "execution_count": null,
   "id": "474b557c",
   "metadata": {
    "height": 829,
    "tags": []
   },
   "outputs": [],
   "source": [
    "import panel as pn  # GUI\n",
    "pn.extension()\n",
    "\n",
    "panels = [] # collect display \n",
    "\n",
    "context = [ {'role':'system', 'content':\"\"\"\n",
    "You are OrderBot, an automated service to collect orders for a pizza restaurant. \\\n",
    "You first greet the customer, then collects the order, \\\n",
    "and then asks if it's a pickup or delivery. \\\n",
    "You wait to collect the entire order, then summarize it and check for a final \\\n",
    "time if the customer wants to add anything else. \\\n",
    "If it's a delivery, you ask for an address. \\\n",
    "Finally you collect the payment.\\\n",
    "Make sure to clarify all options, extras and sizes to uniquely \\\n",
    "identify the item from the menu.\\\n",
    "You respond in a short, very conversational friendly style. \\\n",
    "The menu includes \\\n",
    "pepperoni pizza  12.95, 10.00, 7.00 \\\n",
    "cheese pizza   10.95, 9.25, 6.50 \\\n",
    "eggplant pizza   11.95, 9.75, 6.75 \\\n",
    "fries 4.50, 3.50 \\\n",
    "greek salad 7.25 \\\n",
    "Toppings: \\\n",
    "extra cheese 2.00, \\\n",
    "mushrooms 1.50 \\\n",
    "sausage 3.00 \\\n",
    "canadian bacon 3.50 \\\n",
    "AI sauce 1.50 \\\n",
    "peppers 1.00 \\\n",
    "Drinks: \\\n",
    "coke 3.00, 2.00, 1.00 \\\n",
    "sprite 3.00, 2.00, 1.00 \\\n",
    "bottled water 5.00 \\\n",
    "\"\"\"} ]  # accumulate messages\n",
    "\n",
    "\n",
    "inp = pn.widgets.TextInput(value=\"Hi\", placeholder='Enter text here…')\n",
    "button_conversation = pn.widgets.Button(name=\"Chat!\")\n",
    "\n",
    "interactive_conversation = pn.bind(collect_messages, button_conversation)\n",
    "\n",
    "dashboard = pn.Column(\n",
    "    inp,\n",
    "    pn.Row(button_conversation),\n",
    "    pn.panel(interactive_conversation, loading_indicator=True, height=300),\n",
    ")\n",
    "\n",
    "dashboard"
   ]
  },
  {
   "cell_type": "code",
   "execution_count": null,
   "id": "a0ee11b9",
   "metadata": {
    "height": 183
   },
   "outputs": [],
   "source": [
    "messages =  context.copy()\n",
    "messages.append(\n",
    "{'role':'system', 'content':'create a json summary of the previous food order. Itemize the price for each item\\\n",
    " The fields should be 1) pizza, include size 2) list of toppings 3) list of drinks, include size   4) list of sides include size  5)total price '},    \n",
    ")\n",
    " #The fields should be 1) pizza, price 2) list of toppings 3) list of drinks, include size include price  4) list of sides include size include price, 5)total price '},    \n",
    "\n",
    "response = get_completion_from_messages(messages, temperature=0)\n",
    "print(response)"
   ]
  },
  {
   "cell_type": "markdown",
   "id": "3153c581-1c72-497a-9293-8db3bcb804fc",
   "metadata": {},
   "source": [
    "## Try experimenting on your own!\n",
    "\n",
    "You can modify the menu or instructions to create your own orderbot!"
   ]
  },
  {
   "cell_type": "code",
   "execution_count": null,
   "id": "2cc84122",
   "metadata": {
    "height": 30
   },
   "outputs": [],
   "source": []
  },
  {
   "cell_type": "code",
   "execution_count": null,
   "id": "b866910f",
   "metadata": {},
   "outputs": [],
   "source": []
  },
  {
   "cell_type": "code",
   "execution_count": null,
   "id": "49da327c",
   "metadata": {},
   "outputs": [],
   "source": []
  },
  {
   "cell_type": "code",
   "execution_count": null,
   "id": "ec443697",
   "metadata": {},
   "outputs": [],
   "source": []
  },
  {
   "cell_type": "code",
   "execution_count": null,
   "id": "6a7300d6",
   "metadata": {},
   "outputs": [],
   "source": []
  }
 ],
 "metadata": {
  "kernelspec": {
   "display_name": "Python 3 (ipykernel)",
   "language": "python",
   "name": "python3"
  },
  "language_info": {
   "codemirror_mode": {
    "name": "ipython",
    "version": 3
   },
   "file_extension": ".py",
   "mimetype": "text/x-python",
   "name": "python",
   "nbconvert_exporter": "python",
   "pygments_lexer": "ipython3",
   "version": "3.8.0"
  }
 },
 "nbformat": 4,
 "nbformat_minor": 5
}
